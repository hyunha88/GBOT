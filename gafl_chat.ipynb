{
 "cells": [
  {
   "cell_type": "code",
   "execution_count": 2,
   "metadata": {},
   "outputs": [
    {
     "name": "stdout",
     "output_type": "stream",
     "text": [
      "현재 작업 디렉토리: c:\\Users\\dearh\\gafl_chat\n"
     ]
    }
   ],
   "source": [
    "import os\n",
    "import PyPDF2\n",
    "import openai\n",
    "from dotenv import load_dotenv\n",
    "\n",
    "from langchain_text_splitters import RecursiveCharacterTextSplitter\n",
    "from langchain_community.document_loaders import PyMuPDFLoader\n",
    "from langchain_community.vectorstores import FAISS\n",
    "from langchain_core.output_parsers import StrOutputParser\n",
    "from langchain_core.runnables import RunnablePassthrough\n",
    "from langchain_core.prompts import PromptTemplate\n",
    "from langchain_openai import ChatOpenAI, OpenAIEmbeddings\n",
    "\n",
    "\n",
    "\n",
    "# 현재 작업 디렉토리 출력\n",
    "print(f\"현재 작업 디렉토리: {os.getcwd()}\")\n",
    "\n"
   ]
  },
  {
   "cell_type": "code",
   "execution_count": 3,
   "metadata": {},
   "outputs": [
    {
     "name": "stdout",
     "output_type": "stream",
     "text": [
      ".env 파일 로드 결과: True\n"
     ]
    }
   ],
   "source": [
    "\n",
    "# .env 파일 경로를 명시적으로 지정 (절대 경로를 사용)\n",
    "load_result = load_dotenv(dotenv_path=r\"c:\\Users\\dearh\\gafl_chat.env\")\n",
    "\n",
    "# .env 파일이 제대로 로드되었는지 확인\n",
    "print(f\".env 파일 로드 결과: {load_result}\")\n"
   ]
  },
  {
   "cell_type": "code",
   "execution_count": 4,
   "metadata": {},
   "outputs": [
    {
     "name": "stdout",
     "output_type": "stream",
     "text": [
      "OpenAI API Key: sk-BCDOda_1zuRAMI6AgI6yue-g9vMx-n8fYJxW4bvWfxT3BlbkFJr2EW6-fvuroktE_h54iKItyShnQzO9Thosf67h3_kA\n",
      "LangChain API Key: sk-BCDOda_1zuRAMI6AgI6yue-g9vMx-n8fYJxW4bvWfxT3BlbkFJr2EW6-fvuroktE_h54iKItyShnQzO9Thosf67h3_kA\n",
      "LangChain Tracing: true\n",
      "LangChain Project: LangChain gafl_chat\n"
     ]
    }
   ],
   "source": [
    "\n",
    "\n",
    "# 환경 변수 가져오기\n",
    "openai_api_key = os.getenv(\"OPENAI_API_KEY\")\n",
    "langchain_api_key = os.getenv(\"LANGCHAIN_API_KEY\")\n",
    "langchain_tracing = os.getenv(\"LANGCHAIN_TRACING_V2\")\n",
    "langchain_project = os.getenv(\"LANGCHAIN_PROJECT\")\n",
    "\n",
    "# 값 출력(테스트 용도)\n",
    "print(f\"OpenAI API Key: {openai_api_key}\")\n",
    "print(f\"LangChain API Key: {langchain_api_key}\")\n",
    "print(f\"LangChain Tracing: {langchain_tracing}\")\n",
    "print(f\"LangChain Project: {langchain_project}\")\n"
   ]
  },
  {
   "cell_type": "code",
   "execution_count": 5,
   "metadata": {},
   "outputs": [
    {
     "name": "stdout",
     "output_type": "stream",
     "text": [
      "문서의 페이지수: 201\n"
     ]
    }
   ],
   "source": [
    "# 단계 1: 문서 로드(Load Documents)\n",
    "loader1 = PyMuPDFLoader(\"test.pdf\")\n",
    "loader2 = PyMuPDFLoader(\"학교생활인권규정.pdf\")\n",
    "loader3 = PyMuPDFLoader(\"아스그수강비규정.pdf\")\n",
    "loader4 = PyMuPDFLoader(\"외출외박규정.pdf\")\n",
    "loader5 = PyMuPDFLoader(\"자기주도학습규정.pdf\")\n",
    "\n",
    "docs1 = loader1.load()\n",
    "docs2 = loader2.load()\n",
    "docs3 = loader3.load()\n",
    "docs4 = loader4.load()\n",
    "docs5 = loader5.load()\n",
    "all_docs = docs1+docs2+docs3+docs4+docs4+docs5\n",
    "\n",
    "print(f\"문서의 페이지수: {len(all_docs)}\")"
   ]
  },
  {
   "cell_type": "code",
   "execution_count": 6,
   "metadata": {},
   "outputs": [
    {
     "name": "stdout",
     "output_type": "stream",
     "text": [
      "민감정보및고유식별정보처리제한\n",
      "민감정보및고유식별정보의처리제한민감정보및고유식별정보는원칙적으로처리금지\n",
      "(\n",
      ")\n",
      "개인정보보호법제\n",
      "조민감정보의처리제한\n",
      "23\n",
      "(\n",
      ")\n",
      "개인정보처리자는사상ㆍ신념노동조합ㆍ정당의가입ㆍ탈퇴\n",
      ",\n",
      ",\n",
      "①\n",
      "정치적견해건강성생활등에관한정보그밖에정보주체의사생활을현저히침해할우려가있는개인\n",
      ",\n",
      ",\n",
      ",\n",
      "정보로서대통령령으로정하는정보이하\n",
      "민감정보라한다를처리하여서는아니된다다만다음각호의\n",
      "(\n",
      "“\n",
      "”\n",
      ")\n",
      ".\n",
      ",\n",
      "어느하나에해당하는경우에는그러하지아니하다\n",
      "개정\n",
      ". <\n",
      "2016.3.29.>\n",
      "개인정보보호법시행령제\n",
      "조민감정보의범위\n",
      "18\n",
      "(\n",
      ") 법제\n",
      "조제항각호외의부분본문에서\n",
      "대통령령으로\n",
      "23\n",
      "1\n",
      "“\n",
      "정하는정보란다음각호의어느하나에해당하는정보를말한다\n",
      "다만\n",
      "공공기관이법제\n",
      "조제항\n",
      "”\n",
      ".\n",
      ",\n",
      "18\n",
      "2\n",
      "제호부터제호까지의규정에따라다음각호의어느하나에해당하는정보를처리하는경우의해당\n",
      "5\n",
      "9\n",
      "정보는제외한다.\n",
      "개정\n",
      "<\n",
      "2016. 9. 29., 2020. 8. 4.>\n",
      "유전자검사등의결과로얻어진유전정보\n",
      "1.\n",
      "형의실효등에관한법률\n",
      "제조제호에따른범죄경력자료에해당하는정보\n",
      "2.\n",
      "2\n",
      "5\n",
      "「\n",
      "」\n",
      "3. 개인의신체적생리적행동적특징에관한정보로서특정개인을알아볼목적으로일정한기술적수단을\n",
      ",\n",
      ",\n",
      "통해생성한정보\n",
      "인종이나민족에관한정보\n",
      "4.\n",
      "개인정보보호법제\n",
      "조고유식별정보의처리제한\n",
      "24\n",
      "(\n",
      ")\n",
      "개인정보처리자는다음각호의경우를제외하고는\n",
      "①\n",
      "법령에따라개인을고유하게구별하기위하여부여된식별정보로서대통령령으로정하는정보이하\n",
      "고유\n",
      "(\n",
      "\"\n",
      "식별정보라한다를처리할수없다\n",
      "\"\n",
      ")\n",
      ".\n",
      "고유식별정보의범위\n",
      "주민등록번호여권번호운전면허의면허번호외국인등록번호\n",
      ":\n",
      ",\n",
      ",\n",
      ",\n",
      "※\n",
      "개인정보보호법시행령제\n",
      "조고유식별정보의범위\n",
      "(\n",
      "19\n",
      "(\n",
      "))\n",
      "민감정보는다른개인정보의처리에대한동의와별도로동의를받거나법령에서처리를요구하거나\n",
      "-\n",
      "허용하는경우에만처리가능\n",
      "고유식별정보는다른개인정보의처리에대한동의와별도로동의를받거나법령에서구체적으로\n",
      "-\n",
      "고유식별정보의처리를요구하거나허용하는경우에는처리가능\n",
      "다만고유식별정보중주민등록번호는\n",
      "-\n",
      ",\n",
      "법률ㆍ대통령령ㆍ국회규칙ㆍ대법원규칙ㆍ헌법재판소규칙ㆍ중앙선거관리위원회규칙및감사원규칙에서\n",
      "①\n",
      "구체적으로주민등록번호의처리를요구하거나허용한경우\n",
      "정보주체또는제자의급박한생명신체재산의이익을위하여명백히필요하다고인정되는경우\n",
      "3\n",
      ",\n",
      ",\n",
      "②\n",
      "과\n",
      "에준하여주민등록번호처리가불가피한경우로서보호위원회가고시로정하는경우\n",
      "③①\n",
      "②\n",
      "고유식별정보처리의무사항고유식별정보에대한암호화및대체수단제공\n",
      "(\n",
      ")\n",
      "고유식별정보의분실도난변조훼손방지를위해암호화등안전성확보에필요한조치의무\n",
      "-\n",
      ",\n",
      ",\n",
      ",\n",
      "개인정보처리자가처리하는주민등록번호가분실ㆍ도난ㆍ유출ㆍ변조또는훼손된경우에는\n",
      "억원\n",
      "5\n",
      "※\n",
      "이하의과징금을부과ㆍ징수할수있음다만법제\n",
      "조제항에따른안전성확보에필요한조치를\n",
      ".\n",
      ",\n",
      "24\n",
      "3\n",
      "다한경우에는과징금을부과하지아니한다.\n",
      "인터넷홈페이지를통하여회원으로가입하는경우주민등록번호외의대체수단\n",
      "-\n",
      "전자서명공공\n",
      "공인인증서휴대전화인증등\n",
      "제공의무\n",
      "(\n",
      ",\n",
      "I-PIN,\n",
      ",\n",
      ")\n",
      "민감정보및고유식별정보처리제한\n",
      "짚고가기\n",
      "뺡\n",
      "뺡\n",
      "뺡\n",
      "\n"
     ]
    }
   ],
   "source": [
    "print(all_docs[10].page_content)"
   ]
  },
  {
   "cell_type": "code",
   "execution_count": 7,
   "metadata": {},
   "outputs": [
    {
     "data": {
      "text/plain": [
       "{'id': None,\n",
       " 'metadata': {'source': 'test.pdf',\n",
       "  'file_path': 'test.pdf',\n",
       "  'page': 10,\n",
       "  'total_pages': 147,\n",
       "  'format': 'PDF 1.5',\n",
       "  'title': '개인정보보호 업무매뉴얼 개정(2023.2.13).hwp',\n",
       "  'author': 'co',\n",
       "  'subject': '',\n",
       "  'keywords': '',\n",
       "  'creator': '개인정보보호 업무매뉴얼 개정(2023.2.13).hwp',\n",
       "  'producer': 'NesPDF',\n",
       "  'creationDate': \"D:20230214095545+09'00'\",\n",
       "  'modDate': \"D:20230214095545+09'00'\",\n",
       "  'trapped': ''},\n",
       " 'page_content': '민감정보및고유식별정보처리제한\\n민감정보및고유식별정보의처리제한민감정보및고유식별정보는원칙적으로처리금지\\n(\\n)\\n개인정보보호법제\\n조민감정보의처리제한\\n23\\n(\\n)\\n개인정보처리자는사상ㆍ신념노동조합ㆍ정당의가입ㆍ탈퇴\\n,\\n,\\n①\\n정치적견해건강성생활등에관한정보그밖에정보주체의사생활을현저히침해할우려가있는개인\\n,\\n,\\n,\\n정보로서대통령령으로정하는정보이하\\n민감정보라한다를처리하여서는아니된다다만다음각호의\\n(\\n“\\n”\\n)\\n.\\n,\\n어느하나에해당하는경우에는그러하지아니하다\\n개정\\n. <\\n2016.3.29.>\\n개인정보보호법시행령제\\n조민감정보의범위\\n18\\n(\\n) 법제\\n조제항각호외의부분본문에서\\n대통령령으로\\n23\\n1\\n“\\n정하는정보란다음각호의어느하나에해당하는정보를말한다\\n다만\\n공공기관이법제\\n조제항\\n”\\n.\\n,\\n18\\n2\\n제호부터제호까지의규정에따라다음각호의어느하나에해당하는정보를처리하는경우의해당\\n5\\n9\\n정보는제외한다.\\n개정\\n<\\n2016. 9. 29., 2020. 8. 4.>\\n유전자검사등의결과로얻어진유전정보\\n1.\\n형의실효등에관한법률\\n제조제호에따른범죄경력자료에해당하는정보\\n2.\\n2\\n5\\n「\\n」\\n3. 개인의신체적생리적행동적특징에관한정보로서특정개인을알아볼목적으로일정한기술적수단을\\n,\\n,\\n통해생성한정보\\n인종이나민족에관한정보\\n4.\\n개인정보보호법제\\n조고유식별정보의처리제한\\n24\\n(\\n)\\n개인정보처리자는다음각호의경우를제외하고는\\n①\\n법령에따라개인을고유하게구별하기위하여부여된식별정보로서대통령령으로정하는정보이하\\n고유\\n(\\n\"\\n식별정보라한다를처리할수없다\\n\"\\n)\\n.\\n고유식별정보의범위\\n주민등록번호여권번호운전면허의면허번호외국인등록번호\\n:\\n,\\n,\\n,\\n※\\n개인정보보호법시행령제\\n조고유식별정보의범위\\n(\\n19\\n(\\n))\\n민감정보는다른개인정보의처리에대한동의와별도로동의를받거나법령에서처리를요구하거나\\n-\\n허용하는경우에만처리가능\\n고유식별정보는다른개인정보의처리에대한동의와별도로동의를받거나법령에서구체적으로\\n-\\n고유식별정보의처리를요구하거나허용하는경우에는처리가능\\n다만고유식별정보중주민등록번호는\\n-\\n,\\n법률ㆍ대통령령ㆍ국회규칙ㆍ대법원규칙ㆍ헌법재판소규칙ㆍ중앙선거관리위원회규칙및감사원규칙에서\\n①\\n구체적으로주민등록번호의처리를요구하거나허용한경우\\n정보주체또는제자의급박한생명신체재산의이익을위하여명백히필요하다고인정되는경우\\n3\\n,\\n,\\n②\\n과\\n에준하여주민등록번호처리가불가피한경우로서보호위원회가고시로정하는경우\\n③①\\n②\\n고유식별정보처리의무사항고유식별정보에대한암호화및대체수단제공\\n(\\n)\\n고유식별정보의분실도난변조훼손방지를위해암호화등안전성확보에필요한조치의무\\n-\\n,\\n,\\n,\\n개인정보처리자가처리하는주민등록번호가분실ㆍ도난ㆍ유출ㆍ변조또는훼손된경우에는\\n억원\\n5\\n※\\n이하의과징금을부과ㆍ징수할수있음다만법제\\n조제항에따른안전성확보에필요한조치를\\n.\\n,\\n24\\n3\\n다한경우에는과징금을부과하지아니한다.\\n인터넷홈페이지를통하여회원으로가입하는경우주민등록번호외의대체수단\\n-\\n전자서명공공\\n공인인증서휴대전화인증등\\n제공의무\\n(\\n,\\nI-PIN,\\n,\\n)\\n민감정보및고유식별정보처리제한\\n짚고가기\\n뺡\\n뺡\\n뺡\\n',\n",
       " 'type': 'Document'}"
      ]
     },
     "execution_count": 7,
     "metadata": {},
     "output_type": "execute_result"
    }
   ],
   "source": [
    "all_docs[10].__dict__"
   ]
  },
  {
   "cell_type": "code",
   "execution_count": 8,
   "metadata": {},
   "outputs": [
    {
     "name": "stdout",
     "output_type": "stream",
     "text": [
      "분할된 청크의수: 505\n"
     ]
    }
   ],
   "source": [
    "# 단계 2: 문서 분할(Split Documents)\n",
    "text_splitter = RecursiveCharacterTextSplitter(chunk_size=500, chunk_overlap=50)\n",
    "split_documents = text_splitter.split_documents(all_docs)\n",
    "print(f\"분할된 청크의수: {len(split_documents)}\")"
   ]
  },
  {
   "cell_type": "code",
   "execution_count": 9,
   "metadata": {},
   "outputs": [],
   "source": [
    "# 단계 3: 임베딩(Embedding) 생성\n",
    "embeddings = OpenAIEmbeddings()"
   ]
  },
  {
   "cell_type": "code",
   "execution_count": 10,
   "metadata": {},
   "outputs": [],
   "source": [
    "# 단계 4: DB 생성(Create DB) 및 저장\n",
    "# 벡터스토어를 생성합니다.\n",
    "vectorstore = FAISS.from_documents(documents=split_documents, embedding=embeddings)"
   ]
  },
  {
   "cell_type": "code",
   "execution_count": 11,
   "metadata": {},
   "outputs": [
    {
     "name": "stdout",
     "output_type": "stream",
     "text": [
      ",\n",
      ",\n",
      "ㆍ영상정보처리기기운영자의영상정보확인방법및장소\n",
      "ㆍ정보주체의영상정보열람등요구에대한조치\n",
      "ㆍ영상정보보호를위한기술적관리적및물리적조치방법\n",
      ",\n",
      "ㆍ그밖에학교장이영상정보처리기기설치운영및관리에필요한사항\n",
      "·\n",
      "영상정보처리기기에대한안전성확보조치\n",
      "영상정보처리기기관리책임자지정\n",
      "∙\n",
      "개인영상정보에대한접근통제및접근권한의제한조치\n",
      "∙\n",
      "∙개인영상정보를안전하게저장ㆍ전송할수있는기술의적용\n",
      "네트워크카메라의경우안전한전송을\n",
      "(\n",
      "위한암호화조치개인영상정보파일저장시비밀번호설정등\n",
      ",\n",
      ")\n",
      "∙처리기록의보관및위조ㆍ변조방지를위한조치\n",
      "개인영상정보의생성일시및열람할경우에열람\n",
      "(\n",
      "목적ㆍ열람자ㆍ열람일시등기록ㆍ관리조치등)\n",
      "∙영상정보처리기기의안전한물리적보관을위한보관시설마련또는잠금장치설치\n",
      "영상정보처리기기설치시의견수렴및주요출입구안내판설치\n",
      "참고\n",
      "뺡\n",
      "영상정보처리기기운영ㆍ관리방침기안문예시\n",
      "영상정보처리기기운영ㆍ관리방침예시\n",
      "영상정보처리기기설치ㆍ운영안내판내용\n",
      "개인영상정보열람존재확인청구서\n",
      "·\n",
      "개인영상정보관리대장\n",
      "경기도교육청\u0001 교육기관\u0001 개인정보\u0001 보호업무\u0001 매뉴얼\n",
      "100\n",
      "16\n",
      "영상정보처리기기\u0001 운영ㆍ관리\u0001 방침\u0001 수립\n",
      "관련근거\n",
      "▸개인정보보호법제\n",
      "조영상정보치리기기의설치ㆍ운영제한\n",
      "25\n",
      "(\n",
      ")\n",
      "▸개인정보보호법시행령제\n",
      "조제\n",
      "조영상정보처리기기운영ㆍ관리방침\n",
      "22\n",
      "~\n",
      "25\n",
      "(\n",
      ")\n",
      "▸교육부개인정보보호지침제장영상정보처리기기설치및운영제\n",
      "조내지제\n",
      "조\n",
      "4\n",
      "(\n",
      "66\n",
      "78\n",
      ")\n",
      "업무시기\n",
      "▸영상정보처리기기도입시운영ㆍ관리방침내용변동시\n",
      ",\n",
      "추진사항\n",
      "영상정보처리기기운영ㆍ관리방침수립ㆍ공개홈페이지등\n",
      "(\n",
      ")\n",
      "∙영상정보처리기기운영ㆍ관리방침은다음사항을포함하여수립하고이를해당기관의학교홈페이지에\n",
      "게재하여정보주체에게공개법제\n",
      "조제항시행령제\n",
      "조\n",
      "(\n",
      "25\n",
      "7\n",
      ",\n",
      "25\n",
      ")\n",
      "ㆍ영상정보처리기기설치근거및목적\n",
      "ㆍ영상정보처리기기설치대수설치위치및촬영범위\n",
      ",\n",
      "ㆍ관리책임자담당부서및영상정보에대하여접근권한이있는사람\n",
      ",\n",
      "ㆍ영상정보의촬영시간보관기관보관장소및처리방법\n",
      ",\n",
      ",\n",
      "ㆍ영상정보처리기기운영자의영상정보확인방법및장소\n",
      "ㆍ정보주체의영상정보열람등요구에대한조치\n",
      "조공공기관의영상정보처리기기설치운영사무의위탁에따라다음의내용이포함된문서로\n",
      "26\n",
      "(\n",
      "·\n",
      ")\n",
      "사무위탁이이루어져야합니다.\n",
      "위탁하는사무의목적및범위\n",
      "▶\n",
      "재위탁제한에관한사항\n",
      "▶\n",
      "영상정보에대한접근제한등안전성확보조치에관한사항\n",
      "▶\n",
      "영상정보의관리현황점검에관한사항\n",
      "▶\n",
      "위탁받는자가준수하여야할의무를위반한경우의손해배상등책임에관한사항\n",
      "▶\n",
      "또한영상정보처리기기안내판등에위탁받는자의명칭및연락처를포함시켜야합니다\n",
      ",\n",
      ".\n",
      "51\n",
      "영상정보의경우보유기간을\n",
      "일로지정하고\n",
      "일이지나면자동삭제되는방식으로\n",
      "CCTV\n",
      "30\n",
      "30\n",
      "운영하고있는경우\n",
      "영상정보에대한파기관리대장을매일기록해야하는가\n",
      "아니면\n",
      ", CCTV\n",
      "?\n",
      "파기계획수립으로대체할수있는가?\n",
      "관계법령\n",
      "개인정보보호법\n",
      "제\n",
      "조\n",
      "표준개인정보보호지침\n",
      "제\n",
      "조\n",
      "25\n",
      ",\n",
      "45\n",
      "｢\n",
      "｣\n",
      "｢\n",
      "｣\n",
      "사전에파기시기등을정한자동삭제의경우에는파기주기및자동삭제여부에대한확인시기를영상\n",
      "정보처리기기관리계획또는파기계획내부관리계획포함에수립하고정기적으로점검하여야합니다\n",
      "(\n",
      ")\n",
      ".\n",
      "또한자동파기경우에도파기관리대장을작성하여관리하여야합니다.\n",
      "조\n",
      "44\n",
      ",\n",
      "50\n",
      "개인정보\n",
      "보호담당자\n",
      "16\n",
      "(p95)\n",
      "영상정보처리기기\n",
      "도입시운영ㆍ관리\n",
      ",\n",
      "방침내용변동시\n",
      "영상정보처리기기운영ㆍ관리방침수립\n",
      "∙영상정보처리기기설치시의견수렴및주요출입구\n",
      "안내판설치\n",
      "∙영상정보처리기기운영ㆍ관리방침수립ㆍ공개및책임자\n",
      "지정\n",
      "∙법제\n",
      "조\n",
      "25\n",
      "∙영제\n",
      "조\n",
      "조\n",
      "22\n",
      "~25\n",
      "∙지침제\n",
      "조\n",
      "조\n",
      "66\n",
      "~78\n",
      "영상정보\n",
      "처리기기\n",
      "담당자\n",
      "범례\n",
      "※\n",
      "법\n",
      "개인정보보호법\n",
      "-\n",
      ":\n",
      "영\n",
      "개인정보보호법시행령\n",
      "-\n",
      ":\n",
      "지침\n",
      "교육부개인정보보호지침\n",
      "-\n",
      ":\n"
     ]
    }
   ],
   "source": [
    "for doc in vectorstore.similarity_search(\"영상정보처리기기\"):\n",
    "    print(doc.page_content)"
   ]
  },
  {
   "cell_type": "code",
   "execution_count": 12,
   "metadata": {},
   "outputs": [],
   "source": [
    "# 단계 5: 검색기(Retriever) 생성\n",
    "# 문서에 포함되어 있는 정보를 검색하고 생성합니다.\n",
    "retriever = vectorstore.as_retriever()"
   ]
  },
  {
   "cell_type": "code",
   "execution_count": 13,
   "metadata": {},
   "outputs": [
    {
     "data": {
      "text/plain": [
       "[Document(metadata={'source': 'test.pdf', 'file_path': 'test.pdf', 'page': 127, 'total_pages': 147, 'format': 'PDF 1.5', 'title': '개인정보보호 업무매뉴얼 개정(2023.2.13).hwp', 'author': 'co', 'subject': '', 'keywords': '', 'creator': '개인정보보호 업무매뉴얼 개정(2023.2.13).hwp', 'producer': 'NesPDF', 'creationDate': \"D:20230214095545+09'00'\", 'modDate': \"D:20230214095545+09'00'\", 'trapped': ''}, page_content='수집은가능한가요\\n(\\n)\\n?\\n관계법령\\n개인정보보호법\\n제\\n조\\n초중등교육법\\n제\\n조\\n15\\n,\\n·\\n25\\n｢\\n｣\\n｢\\n｣\\n교사가수업시간동영상촬영을한경우이는초중등교육법제\\n조제항에따라학생지도에활용할수\\n·\\n25\\n1\\n있는행동특성등의자료를작성관리하기위한것으로볼수있는경우에는개인정보보호법제\\n조\\n·\\n15\\n제항에서법률에특별한규정이있거나법령상의무를준수하기위하여불가피한경우에해당합니다\\n1\\n‘\\n’\\n.\\n그러나수업시간에동영상촬영을하더라도촬영된동영상은학생지도등학교생활기록의작성목적범위\\n내에서이용되어야하므로정보주체의별도동의없이그목적범위를넘어해당동영상을이용하거나\\n제공하는행위는불가능합니다.'),\n",
       " Document(metadata={'source': 'test.pdf', 'file_path': 'test.pdf', 'page': 119, 'total_pages': 147, 'format': 'PDF 1.5', 'title': '개인정보보호 업무매뉴얼 개정(2023.2.13).hwp', 'author': 'co', 'subject': '', 'keywords': '', 'creator': '개인정보보호 업무매뉴얼 개정(2023.2.13).hwp', 'producer': 'NesPDF', 'creationDate': \"D:20230214095545+09'00'\", 'modDate': \"D:20230214095545+09'00'\", 'trapped': ''}, page_content='?\\n114\\n학생생활관리를위해상담기초자료보호자성명연락처포함를받을때개인정보수\\n17.\\n(\\n)\\n집이용동의를받았는데각종행사신청이라든가방과후수업신청등학교교육등의\\n·\\n목적으로학부모정보가필요한경우이전에수집한정보를활용해도되는지아니면다시\\n수집이용동의서를받아야하는지\\n대부분의경우학교에서이뤄지는활동은공공기\\n·\\n?\\n관이\\n법령등에서정하는소관업무의수행을위해서불가피한경우로볼수있지않은지?\\n114\\n교사가본인이수업한내용을촬영하여유튜브에공개할경우학생들에게개인정보수집\\n18.\\n,\\n동의를받으면동영상을유튜브에올려도되나요?\\n115'),\n",
       " Document(metadata={'source': 'test.pdf', 'file_path': 'test.pdf', 'page': 129, 'total_pages': 147, 'format': 'PDF 1.5', 'title': '개인정보보호 업무매뉴얼 개정(2023.2.13).hwp', 'author': 'co', 'subject': '', 'keywords': '', 'creator': '개인정보보호 업무매뉴얼 개정(2023.2.13).hwp', 'producer': 'NesPDF', 'creationDate': \"D:20230214095545+09'00'\", 'modDate': \"D:20230214095545+09'00'\", 'trapped': ''}, page_content='경기도교육청\\x01 교육기관\\x01 개인정보\\x01 보호업무\\x01 매뉴얼\\n116\\n18\\n교사가본인이수업한내용을촬영하여유튜브에공개할경우학생들에게개인정보수집\\n,\\n동의를받으면동영상을유튜브에올려도되나요?\\n관계법령\\n개인정보보호법\\n제\\n조제\\n조\\n교육부교원유튜브활동복무지침\\n15\\n,\\n22\\n,\\n｢\\n｣\\n｢\\n｣\\n교육부교원유튜브활동복무지침에근거하여학생이등장하는영상을제작하는경우학생본인및\\n세\\n14\\n미만의학생인경우법정대리인의개인정보수집이용에대한사전동의를받아야합니다\\n·\\n.\\n또한완성영상을유튜브에활용시학생본인및보호자의최종동의가필요하기때문에사전동의시\\n목적등활용에대한내용을충분히이해하기쉬운방법으로알린후에동의받으시는것이바람직해\\n보입니다.\\n19\\n초중고학교에서문자발송을위해외부문자전송시스템을사용할경우직접적으로해당업체에\\n개인정보를제공하지않는데도개인정보처리위탁업무로보고위탁에따른업무계약서작성\\n(\\n,\\n보안서약서징구등를해야하는가\\n)\\n?\\n관계법령\\n개인정보보호법\\n제\\n조\\n26\\n｢\\n｣\\n문자전송시스템업체로개인정보를제공하지않더라도해당시스템에서문자전송을위해개인정보를'),\n",
       " Document(metadata={'source': 'test.pdf', 'file_path': 'test.pdf', 'page': 119, 'total_pages': 147, 'format': 'PDF 1.5', 'title': '개인정보보호 업무매뉴얼 개정(2023.2.13).hwp', 'author': 'co', 'subject': '', 'keywords': '', 'creator': '개인정보보호 업무매뉴얼 개정(2023.2.13).hwp', 'producer': 'NesPDF', 'creationDate': \"D:20230214095545+09'00'\", 'modDate': \"D:20230214095545+09'00'\", 'trapped': ''}, page_content='또는코팅을보내는경우동의를얻\\n,\\n)\\n(\\n)\\n어야하는지?\\n112\\n단체사진일경우에는동의를거부한사람이있다면해당사진은홈페이지에게시가불가\\n11.\\n,\\n능한가요\\n또한특정회원만열람가능한게시판이라면동의없이게시가가능한가요\\n?\\n?\\n112\\n담임교사를비롯한수업담당교사가알아야할학생의건강에관한특이사항도본인과\\n12.\\n부모의동의가있어야보건교사가다른교사에게알릴수있는지?\\n이와유사하게학생의정신질환에대해교직원회의에서반\\n번호\\n이름을알려수업시\\n,\\n,\\n고려하도록해도되는가?\\n113\\n학교홈페이지메인사진으로학생사진을사용한경우만약그학생이졸업을했을때도\\n13.\\n사진을계속게시할수있는것인가?\\n113\\n수업시간에학생개인정보동영상\\n수집은가능한가요\\n14.\\n(\\n)\\n?\\n113\\n학교졸업앨범제작시교직원개인정보사진등는반드시포함해야하나요\\n15.\\n(\\n)\\n?\\n114\\n초중고등학교홈페이지에교직원의성명업무를정보주체의동의없이탑재해도되나요\\n16.\\n·\\n·\\n,\\n?\\n114\\n학생생활관리를위해상담기초자료보호자성명연락처포함를받을때개인정보수\\n17.\\n(\\n)')]"
      ]
     },
     "execution_count": 13,
     "metadata": {},
     "output_type": "execute_result"
    }
   ],
   "source": [
    "# 검색기에 쿼리를 날려 검색된 chunk 결과를 확인합니다.\n",
    "retriever.invoke(\"수업 때 촬영한 내용을 유튜브에 올려도 되나요?\")"
   ]
  },
  {
   "cell_type": "code",
   "execution_count": 14,
   "metadata": {},
   "outputs": [],
   "source": [
    "# 단계 6: 프롬프트 생성(Create Prompt)\n",
    "# 프롬프트를 생성합니다.\n",
    "prompt = PromptTemplate.from_template(\n",
    "    \"\"\"You are an assistant for question-answering tasks. \n",
    "Use the following pieces of retrieved context to answer the question. \n",
    "If you don't know the answer, just say that you don't know. \n",
    "Answer in Korean.\n",
    "\n",
    "#Context: \n",
    "{context} \n",
    "\n",
    "#Question: \n",
    "{question} \n",
    "\n",
    "#Answer:\"\"\"\n",
    ")"
   ]
  },
  {
   "cell_type": "code",
   "execution_count": 15,
   "metadata": {},
   "outputs": [
    {
     "name": "stderr",
     "output_type": "stream",
     "text": [
      "Failed to batch ingest runs: LangSmithError('Failed to POST https://api.smith.langchain.com/runs/batch in LangSmith API. HTTPError(\\'403 Client Error: Forbidden for url: https://api.smith.langchain.com/runs/batch\\', \\'{\"detail\":\"Forbidden\"}\\')')\n",
      "Failed to batch ingest runs: LangSmithError('Failed to POST https://api.smith.langchain.com/runs/batch in LangSmith API. HTTPError(\\'403 Client Error: Forbidden for url: https://api.smith.langchain.com/runs/batch\\', \\'{\"detail\":\"Forbidden\"}\\')')\n",
      "Failed to batch ingest runs: LangSmithError('Failed to POST https://api.smith.langchain.com/runs/batch in LangSmith API. HTTPError(\\'403 Client Error: Forbidden for url: https://api.smith.langchain.com/runs/batch\\', \\'{\"detail\":\"Forbidden\"}\\')')\n",
      "Failed to batch ingest runs: LangSmithError('Failed to POST https://api.smith.langchain.com/runs/batch in LangSmith API. HTTPError(\\'403 Client Error: Forbidden for url: https://api.smith.langchain.com/runs/batch\\', \\'{\"detail\":\"Forbidden\"}\\')')\n",
      "Failed to batch ingest runs: LangSmithError('Failed to POST https://api.smith.langchain.com/runs/batch in LangSmith API. HTTPError(\\'403 Client Error: Forbidden for url: https://api.smith.langchain.com/runs/batch\\', \\'{\"detail\":\"Forbidden\"}\\')')\n",
      "Failed to batch ingest runs: LangSmithError('Failed to POST https://api.smith.langchain.com/runs/batch in LangSmith API. HTTPError(\\'403 Client Error: Forbidden for url: https://api.smith.langchain.com/runs/batch\\', \\'{\"detail\":\"Forbidden\"}\\')')\n",
      "Failed to batch ingest runs: LangSmithError('Failed to POST https://api.smith.langchain.com/runs/batch in LangSmith API. HTTPError(\\'403 Client Error: Forbidden for url: https://api.smith.langchain.com/runs/batch\\', \\'{\"detail\":\"Forbidden\"}\\')')\n",
      "Failed to batch ingest runs: LangSmithError('Failed to POST https://api.smith.langchain.com/runs/batch in LangSmith API. HTTPError(\\'403 Client Error: Forbidden for url: https://api.smith.langchain.com/runs/batch\\', \\'{\"detail\":\"Forbidden\"}\\')')\n",
      "Failed to batch ingest runs: LangSmithError('Failed to POST https://api.smith.langchain.com/runs/batch in LangSmith API. HTTPError(\\'403 Client Error: Forbidden for url: https://api.smith.langchain.com/runs/batch\\', \\'{\"detail\":\"Forbidden\"}\\')')\n",
      "Failed to batch ingest runs: LangSmithError('Failed to POST https://api.smith.langchain.com/runs/batch in LangSmith API. HTTPError(\\'403 Client Error: Forbidden for url: https://api.smith.langchain.com/runs/batch\\', \\'{\"detail\":\"Forbidden\"}\\')')\n",
      "Failed to batch ingest runs: LangSmithError('Failed to POST https://api.smith.langchain.com/runs/batch in LangSmith API. HTTPError(\\'403 Client Error: Forbidden for url: https://api.smith.langchain.com/runs/batch\\', \\'{\"detail\":\"Forbidden\"}\\')')\n",
      "Failed to batch ingest runs: LangSmithError('Failed to POST https://api.smith.langchain.com/runs/batch in LangSmith API. HTTPError(\\'403 Client Error: Forbidden for url: https://api.smith.langchain.com/runs/batch\\', \\'{\"detail\":\"Forbidden\"}\\')')\n",
      "Failed to batch ingest runs: LangSmithError('Failed to POST https://api.smith.langchain.com/runs/batch in LangSmith API. HTTPError(\\'403 Client Error: Forbidden for url: https://api.smith.langchain.com/runs/batch\\', \\'{\"detail\":\"Forbidden\"}\\')')\n",
      "Failed to batch ingest runs: LangSmithError('Failed to POST https://api.smith.langchain.com/runs/batch in LangSmith API. HTTPError(\\'403 Client Error: Forbidden for url: https://api.smith.langchain.com/runs/batch\\', \\'{\"detail\":\"Forbidden\"}\\')')\n",
      "Failed to batch ingest runs: LangSmithError('Failed to POST https://api.smith.langchain.com/runs/batch in LangSmith API. HTTPError(\\'403 Client Error: Forbidden for url: https://api.smith.langchain.com/runs/batch\\', \\'{\"detail\":\"Forbidden\"}\\')')\n",
      "Failed to batch ingest runs: LangSmithError('Failed to POST https://api.smith.langchain.com/runs/batch in LangSmith API. HTTPError(\\'403 Client Error: Forbidden for url: https://api.smith.langchain.com/runs/batch\\', \\'{\"detail\":\"Forbidden\"}\\')')\n",
      "Failed to batch ingest runs: LangSmithError('Failed to POST https://api.smith.langchain.com/runs/batch in LangSmith API. HTTPError(\\'403 Client Error: Forbidden for url: https://api.smith.langchain.com/runs/batch\\', \\'{\"detail\":\"Forbidden\"}\\')')\n",
      "Failed to batch ingest runs: LangSmithError('Failed to POST https://api.smith.langchain.com/runs/batch in LangSmith API. HTTPError(\\'403 Client Error: Forbidden for url: https://api.smith.langchain.com/runs/batch\\', \\'{\"detail\":\"Forbidden\"}\\')')\n",
      "Failed to batch ingest runs: LangSmithError('Failed to POST https://api.smith.langchain.com/runs/batch in LangSmith API. HTTPError(\\'403 Client Error: Forbidden for url: https://api.smith.langchain.com/runs/batch\\', \\'{\"detail\":\"Forbidden\"}\\')')\n",
      "Failed to batch ingest runs: LangSmithError('Failed to POST https://api.smith.langchain.com/runs/batch in LangSmith API. HTTPError(\\'403 Client Error: Forbidden for url: https://api.smith.langchain.com/runs/batch\\', \\'{\"detail\":\"Forbidden\"}\\')')\n",
      "Failed to batch ingest runs: LangSmithError('Failed to POST https://api.smith.langchain.com/runs/batch in LangSmith API. HTTPError(\\'403 Client Error: Forbidden for url: https://api.smith.langchain.com/runs/batch\\', \\'{\"detail\":\"Forbidden\"}\\')')\n",
      "Failed to batch ingest runs: LangSmithError('Failed to POST https://api.smith.langchain.com/runs/batch in LangSmith API. HTTPError(\\'403 Client Error: Forbidden for url: https://api.smith.langchain.com/runs/batch\\', \\'{\"detail\":\"Forbidden\"}\\')')\n",
      "Failed to batch ingest runs: LangSmithError('Failed to POST https://api.smith.langchain.com/runs/batch in LangSmith API. HTTPError(\\'403 Client Error: Forbidden for url: https://api.smith.langchain.com/runs/batch\\', \\'{\"detail\":\"Forbidden\"}\\')')\n",
      "Failed to batch ingest runs: LangSmithError('Failed to POST https://api.smith.langchain.com/runs/batch in LangSmith API. HTTPError(\\'403 Client Error: Forbidden for url: https://api.smith.langchain.com/runs/batch\\', \\'{\"detail\":\"Forbidden\"}\\')')\n",
      "Failed to batch ingest runs: LangSmithError('Failed to POST https://api.smith.langchain.com/runs/batch in LangSmith API. HTTPError(\\'403 Client Error: Forbidden for url: https://api.smith.langchain.com/runs/batch\\', \\'{\"detail\":\"Forbidden\"}\\')')\n",
      "Failed to batch ingest runs: LangSmithError('Failed to POST https://api.smith.langchain.com/runs/batch in LangSmith API. HTTPError(\\'403 Client Error: Forbidden for url: https://api.smith.langchain.com/runs/batch\\', \\'{\"detail\":\"Forbidden\"}\\')')\n"
     ]
    }
   ],
   "source": [
    "# 단계 7: 언어모델(LLM) 생성\n",
    "# 모델(LLM) 을 생성합니다.\n",
    "llm = ChatOpenAI(model_name=\"gpt-4o\", temperature=0)"
   ]
  },
  {
   "cell_type": "code",
   "execution_count": 16,
   "metadata": {},
   "outputs": [],
   "source": [
    "chain = prompt | llm | StrOutputParser()"
   ]
  },
  {
   "cell_type": "code",
   "execution_count": 17,
   "metadata": {},
   "outputs": [],
   "source": [
    "# 단계 8: 체인(Chain) 생성\n",
    "chain = (\n",
    "    {\"context\": retriever, \"question\": RunnablePassthrough()}\n",
    "    | prompt\n",
    "    | llm\n",
    "    | StrOutputParser()\n",
    ")"
   ]
  },
  {
   "cell_type": "code",
   "execution_count": 18,
   "metadata": {},
   "outputs": [
    {
     "name": "stdout",
     "output_type": "stream",
     "text": [
      "교사가 수업을 촬영하여 유튜브에 공개할 경우, 학생들에게 개인정보 수집 및 이용에 대한 동의를 받아야 합니다. 특히, 14세 미만의 학생인 경우 법정대리인의 사전 동의도 필요합니다. 또한, 완성된 영상을 유튜브에 활용할 때는 학생 본인 및 보호자의 최종 동의가 필요합니다. 따라서 사전 동의 시 목적 등 활용에 대한 내용을 충분히 이해하기 쉬운 방법으로 알린 후에 동의를 받는 것이 바람직합니다.\n"
     ]
    }
   ],
   "source": [
    "# 체인 실행(Run Chain)\n",
    "# 문서에 대한 질의를 입력하고, 답변을 출력합니다.\n",
    "question = \"수업을 촬영하고 유튜브로 업로드 해도 되나요?\"\n",
    "response = chain.invoke(question)\n",
    "print(response)"
   ]
  },
  {
   "cell_type": "code",
   "execution_count": 19,
   "metadata": {},
   "outputs": [
    {
     "name": "stdout",
     "output_type": "stream",
     "text": [
      "개인정보 보호법 15조는 정보주체의 동의를 받은 경우, 법률에 특별한 규정이 있거나 법령상의 의무 준수를 위해 필요한 경우 등에만 개인정보를 수집할 수 있다는 내용을 담고 있습니다.\n"
     ]
    }
   ],
   "source": [
    "# 체인 실행(Run Chain)\n",
    "# 문서에 대한 질의를 입력하고, 답변을 출력합니다.\n",
    "question = \"개인정보 보호법 15조가 뭐야?\"\n",
    "response = chain.invoke(question)\n",
    "print(response)"
   ]
  },
  {
   "cell_type": "code",
   "execution_count": 20,
   "metadata": {},
   "outputs": [
    {
     "name": "stdout",
     "output_type": "stream",
     "text": [
      "모르겠습니다.\n"
     ]
    }
   ],
   "source": [
    "# 체인 실행(Run Chain)\n",
    "# 문서에 대한 질의를 입력하고, 답변을 출력합니다.\n",
    "question = \"개인정보를 비공개로 처리하지 않으면 어떻게 돼?\"\n",
    "response = chain.invoke(question)\n",
    "print(response)"
   ]
  },
  {
   "cell_type": "code",
   "execution_count": 21,
   "metadata": {},
   "outputs": [
    {
     "name": "stdout",
     "output_type": "stream",
     "text": [
      "학부모의 주민등록번호를 수집하는 것은 원칙적으로 불법입니다. 다만, 교육비 납입 소득공제 자료를 국세청에 제출할 때와 같이 법령에서 요구하거나 허용하는 경우에만 예외적으로 수집이 가능합니다.\n"
     ]
    }
   ],
   "source": [
    "# 체인 실행(Run Chain)\n",
    "# 문서에 대한 질의를 입력하고, 답변을 출력합니다.\n",
    "question = \"학부모 주민등록번호를 수집하는 것은 괜찮아?\"\n",
    "response = chain.invoke(question)\n",
    "print(response)"
   ]
  },
  {
   "cell_type": "code",
   "execution_count": 22,
   "metadata": {},
   "outputs": [
    {
     "name": "stdout",
     "output_type": "stream",
     "text": [
      "개인정보보호법 제24조 제2항 제1호에 따라 정보주체의 동의 없이 주민등록번호를 처리할 수 있는 경우가 있습니다. 그러나 일반적으로 학부모의 주민등록번호를 수집하려면 정보주체의 동의를 받아야 합니다. 따라서 학부모의 주민등록번호를 수집하려면 반드시 동의를 받아야 합니다.\n"
     ]
    }
   ],
   "source": [
    "# 체인 실행(Run Chain)\n",
    "# 문서에 대한 질의를 입력하고, 답변을 출력합니다.\n",
    "question = \"학부모 주민등록번호를 수집해도 돼?\"\n",
    "response = chain.invoke(question)\n",
    "print(response)"
   ]
  },
  {
   "cell_type": "code",
   "execution_count": 23,
   "metadata": {},
   "outputs": [
    {
     "name": "stdout",
     "output_type": "stream",
     "text": [
      "모르겠어요. 제공된 문서에서는 학부모 주민등록번호를 조사해도 되는지에 대한 명확한 정보가 없습니다.\n"
     ]
    }
   ],
   "source": [
    "# 체인 실행(Run Chain)\n",
    "# 문서에 대한 질의를 입력하고, 답변을 출력합니다.\n",
    "question = \"학부모 주민등록번호를 조사해도 돼?\"\n",
    "response = chain.invoke(question)\n",
    "print(response)"
   ]
  },
  {
   "cell_type": "code",
   "execution_count": 24,
   "metadata": {},
   "outputs": [
    {
     "name": "stdout",
     "output_type": "stream",
     "text": [
      "CCTV 관련 법에 따르면, 다음과 같은 규정이 있습니다:\n",
      "\n",
      "1. 직무상 알게 된 비밀을 누설하거나 직무상 목적 외 사용한 자는 5년 이하 징역 또는 3천만 원 이하 벌금에 처해질 수 있습니다.\n",
      "2. 안전성 확보에 필요한 보호조치를 취하지 않아 개인정보를 도난, 유출, 변조 또는 훼손당하거나 분실한 자는 2년 이하 징역 또는 2천만 원 이하 벌금에 처해질 수 있습니다.\n",
      "3. 개인정보를 분리해서 저장, 관리하지 않은 자는 천만 원 이하 과태료에 처해질 수 있습니다.\n",
      "4. 개인정보의 정정, 삭제 요청에 대한 필요한 조치를 취하지 않고 개인정보를 계속 이용하거나 제3자에게 제공한 자는 3년 이하 징역 또는 2천만 원 이하 벌금에 처해질 수 있습니다.\n",
      "5. 개인정보의 처리정지 요구에 따라 처리를 중단하지 않고 계속 이용하거나 제3자에게 제공한 자는 3년 이하 징역 또는 2천만 원 이하 벌금에 처해질 수 있습니다.\n",
      "\n",
      "또한, 유치원 교실 내에 설치된 CCTV의 경우, 다른 학생들이 포함된 영상정보를 열람 제공하기 위해서는 다른 학생들의 법정대리인에게 열람 동의서를 받아야 하며, 다른 학생들이 식별되지 않도록 처리해야 합니다. \n",
      "\n",
      "이 외에도, 영상정보를 경찰 등에게 제공할 경우, 개인정보보호법 제18조 제2항 제7호에 따라 공공기관인 경우 범죄 수사 및 공소 제기를 위해 제공할 수 있으며, 공공기관이 아닌 경우에는 적법 절차를 거친 경우에만 제공이 가능합니다.\n"
     ]
    }
   ],
   "source": [
    "# 체인 실행(Run Chain)\n",
    "# 문서에 대한 질의를 입력하고, 답변을 출력합니다.\n",
    "question = \"CCTV 관련 법\"\n",
    "response = chain.invoke(question)\n",
    "print(response)"
   ]
  },
  {
   "cell_type": "code",
   "execution_count": 25,
   "metadata": {},
   "outputs": [
    {
     "name": "stdout",
     "output_type": "stream",
     "text": [
      "OG 항목은 다음과 같습니다:\n",
      "\n",
      "- 학습태도 및 준비불량\n",
      "- 행사 무단 불참\n",
      "- 남의 글귀를 가져다가 자기 것으로 발표함 (표절)\n",
      "- 자습실 규정 위반\n",
      "- 자기주도학습 불참\n",
      "- 자기주도학습 시 학습과 관련 없는 행위 적발 시 (잡지, 만화 보기 등)\n",
      "- 교사에 대한 불손한 언행\n",
      "- 생활교육위원회 회부\n",
      "- 지각 (학교 지각, 자기주도학습 지각)\n",
      "- 외부 음식물 배달 반입 및 취사 행위\n",
      "- 매점 이용 후 정리 불량 (생일파티, 동아리 모임)\n",
      "- 타인의 물건을 훼손한 및 허락 없이 사용한 경우\n"
     ]
    }
   ],
   "source": [
    "# 체인 실행(Run Chain)\n",
    "# 문서에 대한 질의를 입력하고, 답변을 출력합니다.\n",
    "question = \"OG 항목\"\n",
    "response = chain.invoke(question)\n",
    "print(response)"
   ]
  },
  {
   "cell_type": "code",
   "execution_count": 28,
   "metadata": {},
   "outputs": [
    {
     "name": "stdout",
     "output_type": "stream",
     "text": [
      "반장이 학생생활교육위원회에 회부되면, 학생생활교육위원회는 해당 학생의 신상 및 사안에 관한 제반 의견을 진술할 기회를 주어야 하며, 학생 및 학부모에게도 의견 진술 기회를 제공해야 합니다. 또한, 학교장은 학생생활교육위원회에서 심의된 처분 내용에 대해 재심을 명할 수 있습니다.\n"
     ]
    }
   ],
   "source": [
    "# 체인 실행(Run Chain)\n",
    "# 문서에 대한 질의를 입력하고, 답변을 출력합니다.\n",
    "question = \"반장이 학생생활교육위원회 회부되면?\"\n",
    "response = chain.invoke(question)\n",
    "print(response)"
   ]
  },
  {
   "cell_type": "code",
   "execution_count": 27,
   "metadata": {},
   "outputs": [
    {
     "name": "stdout",
     "output_type": "stream",
     "text": [
      "조부모가 사망하면 인정결석 일수는 5일입니다.\n"
     ]
    }
   ],
   "source": [
    "# 체인 실행(Run Chain)\n",
    "# 문서에 대한 질의를 입력하고, 답변을 출력합니다.\n",
    "question = \"조부모가 사망하면 인정결석 일수\"\n",
    "response = chain.invoke(question)\n",
    "print(response)"
   ]
  },
  {
   "cell_type": "code",
   "execution_count": null,
   "metadata": {},
   "outputs": [],
   "source": []
  }
 ],
 "metadata": {
  "kernelspec": {
   "display_name": "haley",
   "language": "python",
   "name": "python3"
  },
  "language_info": {
   "codemirror_mode": {
    "name": "ipython",
    "version": 3
   },
   "file_extension": ".py",
   "mimetype": "text/x-python",
   "name": "python",
   "nbconvert_exporter": "python",
   "pygments_lexer": "ipython3",
   "version": "3.8.18"
  }
 },
 "nbformat": 4,
 "nbformat_minor": 2
}
